{
 "cells": [
  {
   "cell_type": "code",
   "execution_count": 58,
   "metadata": {
    "_cell_guid": "b1076dfc-b9ad-4769-8c92-a6c4dae69d19",
    "_uuid": "8f2839f25d086af736a60e9eeb907d3b93b6e0e5",
    "collapsed": true
   },
   "outputs": [],
   "source": [
    "# This Python 3 environment comes with many helpful analytics libraries installed\n",
    "# It is defined by the kaggle/python Docker image: https://github.com/kaggle/docker-python\n",
    "# For example, here's several helpful packages to load\n",
    "\n",
    "import numpy as np # linear algebra\n",
    "import pandas as pd # data processing, CSV file I/O (e.g. pd.read_csv)\n",
    "\n",
    "# Input data files are available in the read-only \"../input/\" directory\n",
    "# For example, running this (by clicking run or pressing Shift+Enter) will list all files under the input directory\n",
    "\n",
    "import os\n",
    "for dirname, _, filenames in os.walk('/kaggle/input'):\n",
    "    for filename in filenames:\n",
    "        print(os.path.join(dirname, filename))\n",
    "\n",
    "# You can write up to 5GB to the current directory (/kaggle/working/) that gets preserved as output when you create a version using \"Save & Run All\" \n",
    "# You can also write temporary files to /kaggle/temp/, but they won't be saved outside of the current session"
   ]
  },
  {
   "cell_type": "markdown",
   "metadata": {},
   "source": [
    "###### Importing Libraries"
   ]
  },
  {
   "cell_type": "code",
   "execution_count": 81,
   "metadata": {
    "_cell_guid": "79c7e3d0-c299-4dcb-8224-4455121ee9b0",
    "_uuid": "d629ff2d2480ee46fbb7e2d37f6b5fab8052498a",
    "collapsed": true
   },
   "outputs": [],
   "source": [
    "import pandas as pd\n",
    "import numpy as np\n",
    "import matplotlib.pyplot as plt\n",
    "import seaborn as sns\n",
    "\n",
    "%matplotlib inline"
   ]
  },
  {
   "cell_type": "markdown",
   "metadata": {},
   "source": [
    "##### Reading text based Dataset into pandas DataFrame"
   ]
  },
  {
   "cell_type": "code",
   "execution_count": 82,
   "metadata": {
    "collapsed": true
   },
   "outputs": [],
   "source": [
    "sms_df=pd.read_csv('spam.csv',encoding='latin-1')"
   ]
  },
  {
   "cell_type": "code",
   "execution_count": 83,
   "metadata": {},
   "outputs": [
    {
     "data": {
      "text/html": [
       "<div>\n",
       "<style>\n",
       "    .dataframe thead tr:only-child th {\n",
       "        text-align: right;\n",
       "    }\n",
       "\n",
       "    .dataframe thead th {\n",
       "        text-align: left;\n",
       "    }\n",
       "\n",
       "    .dataframe tbody tr th {\n",
       "        vertical-align: top;\n",
       "    }\n",
       "</style>\n",
       "<table border=\"1\" class=\"dataframe\">\n",
       "  <thead>\n",
       "    <tr style=\"text-align: right;\">\n",
       "      <th></th>\n",
       "      <th>text</th>\n",
       "      <th>target</th>\n",
       "    </tr>\n",
       "  </thead>\n",
       "  <tbody>\n",
       "    <tr>\n",
       "      <th>0</th>\n",
       "      <td>Go until jurong point, crazy.. Available only ...</td>\n",
       "      <td>ham</td>\n",
       "    </tr>\n",
       "    <tr>\n",
       "      <th>1</th>\n",
       "      <td>Ok lar... Joking wif u oni...</td>\n",
       "      <td>ham</td>\n",
       "    </tr>\n",
       "    <tr>\n",
       "      <th>2</th>\n",
       "      <td>Free entry in 2 a wkly comp to win FA Cup fina...</td>\n",
       "      <td>spam</td>\n",
       "    </tr>\n",
       "    <tr>\n",
       "      <th>3</th>\n",
       "      <td>U dun say so early hor... U c already then say...</td>\n",
       "      <td>ham</td>\n",
       "    </tr>\n",
       "    <tr>\n",
       "      <th>4</th>\n",
       "      <td>Nah I don't think he goes to usf, he lives aro...</td>\n",
       "      <td>ham</td>\n",
       "    </tr>\n",
       "  </tbody>\n",
       "</table>\n",
       "</div>"
      ],
      "text/plain": [
       "                                                text target\n",
       "0  Go until jurong point, crazy.. Available only ...    ham\n",
       "1                      Ok lar... Joking wif u oni...    ham\n",
       "2  Free entry in 2 a wkly comp to win FA Cup fina...   spam\n",
       "3  U dun say so early hor... U c already then say...    ham\n",
       "4  Nah I don't think he goes to usf, he lives aro...    ham"
      ]
     },
     "execution_count": 83,
     "metadata": {},
     "output_type": "execute_result"
    }
   ],
   "source": [
    "sms_df.head()"
   ]
  },
  {
   "cell_type": "code",
   "execution_count": 84,
   "metadata": {},
   "outputs": [
    {
     "data": {
      "text/plain": [
       "(5572, 2)"
      ]
     },
     "execution_count": 84,
     "metadata": {},
     "output_type": "execute_result"
    }
   ],
   "source": [
    "sms_df.shape"
   ]
  },
  {
   "cell_type": "markdown",
   "metadata": {},
   "source": [
    "The datafraem has 5572 Rows and 5 columns, we can check the total Null values in dataframe which is shown below"
   ]
  },
  {
   "cell_type": "code",
   "execution_count": 85,
   "metadata": {},
   "outputs": [
    {
     "data": {
      "text/plain": [
       "text      0\n",
       "target    0\n",
       "dtype: int64"
      ]
     },
     "execution_count": 85,
     "metadata": {},
     "output_type": "execute_result"
    }
   ],
   "source": [
    "sms_df.isnull().sum()"
   ]
  },
  {
   "cell_type": "markdown",
   "metadata": {},
   "source": [
    "Except Column v1 and v2 all columns have large NaN values"
   ]
  },
  {
   "cell_type": "code",
   "execution_count": 86,
   "metadata": {},
   "outputs": [
    {
     "data": {
      "text/plain": [
       "text      0.0\n",
       "target    0.0\n",
       "dtype: float64"
      ]
     },
     "execution_count": 86,
     "metadata": {},
     "output_type": "execute_result"
    }
   ],
   "source": [
    "sms_df.isnull().mean()*100"
   ]
  },
  {
   "cell_type": "markdown",
   "metadata": {},
   "source": [
    "Most of unnamed columns have huge value of NaN it's best we drop all the unnamed columns"
   ]
  },
  {
   "cell_type": "code",
   "execution_count": 87,
   "metadata": {
    "collapsed": true
   },
   "outputs": [],
   "source": [
    "sms_df.dropna(how='any',axis=1,inplace=True)"
   ]
  },
  {
   "cell_type": "code",
   "execution_count": 88,
   "metadata": {},
   "outputs": [
    {
     "data": {
      "text/html": [
       "<div>\n",
       "<style>\n",
       "    .dataframe thead tr:only-child th {\n",
       "        text-align: right;\n",
       "    }\n",
       "\n",
       "    .dataframe thead th {\n",
       "        text-align: left;\n",
       "    }\n",
       "\n",
       "    .dataframe tbody tr th {\n",
       "        vertical-align: top;\n",
       "    }\n",
       "</style>\n",
       "<table border=\"1\" class=\"dataframe\">\n",
       "  <thead>\n",
       "    <tr style=\"text-align: right;\">\n",
       "      <th></th>\n",
       "      <th>text</th>\n",
       "      <th>target</th>\n",
       "    </tr>\n",
       "  </thead>\n",
       "  <tbody>\n",
       "    <tr>\n",
       "      <th>0</th>\n",
       "      <td>Go until jurong point, crazy.. Available only ...</td>\n",
       "      <td>ham</td>\n",
       "    </tr>\n",
       "    <tr>\n",
       "      <th>1</th>\n",
       "      <td>Ok lar... Joking wif u oni...</td>\n",
       "      <td>ham</td>\n",
       "    </tr>\n",
       "    <tr>\n",
       "      <th>2</th>\n",
       "      <td>Free entry in 2 a wkly comp to win FA Cup fina...</td>\n",
       "      <td>spam</td>\n",
       "    </tr>\n",
       "    <tr>\n",
       "      <th>3</th>\n",
       "      <td>U dun say so early hor... U c already then say...</td>\n",
       "      <td>ham</td>\n",
       "    </tr>\n",
       "    <tr>\n",
       "      <th>4</th>\n",
       "      <td>Nah I don't think he goes to usf, he lives aro...</td>\n",
       "      <td>ham</td>\n",
       "    </tr>\n",
       "  </tbody>\n",
       "</table>\n",
       "</div>"
      ],
      "text/plain": [
       "                                                text target\n",
       "0  Go until jurong point, crazy.. Available only ...    ham\n",
       "1                      Ok lar... Joking wif u oni...    ham\n",
       "2  Free entry in 2 a wkly comp to win FA Cup fina...   spam\n",
       "3  U dun say so early hor... U c already then say...    ham\n",
       "4  Nah I don't think he goes to usf, he lives aro...    ham"
      ]
     },
     "execution_count": 88,
     "metadata": {},
     "output_type": "execute_result"
    }
   ],
   "source": [
    "sms_df.head()"
   ]
  },
  {
   "cell_type": "code",
   "execution_count": 89,
   "metadata": {
    "collapsed": true
   },
   "outputs": [],
   "source": [
    "sms_df.columns=['Message','Tag']"
   ]
  },
  {
   "cell_type": "markdown",
   "metadata": {},
   "source": [
    "spam ='Message which is labelled as Spam'\n",
    "\n",
    "ham = 'Message which is labelled as Not Spam'"
   ]
  },
  {
   "cell_type": "code",
   "execution_count": 90,
   "metadata": {},
   "outputs": [
    {
     "data": {
      "text/html": [
       "<div>\n",
       "<style>\n",
       "    .dataframe thead tr:only-child th {\n",
       "        text-align: right;\n",
       "    }\n",
       "\n",
       "    .dataframe thead th {\n",
       "        text-align: left;\n",
       "    }\n",
       "\n",
       "    .dataframe tbody tr th {\n",
       "        vertical-align: top;\n",
       "    }\n",
       "</style>\n",
       "<table border=\"1\" class=\"dataframe\">\n",
       "  <thead>\n",
       "    <tr style=\"text-align: right;\">\n",
       "      <th></th>\n",
       "      <th>Message</th>\n",
       "      <th>Tag</th>\n",
       "    </tr>\n",
       "  </thead>\n",
       "  <tbody>\n",
       "    <tr>\n",
       "      <th>count</th>\n",
       "      <td>5572</td>\n",
       "      <td>5572</td>\n",
       "    </tr>\n",
       "    <tr>\n",
       "      <th>unique</th>\n",
       "      <td>5169</td>\n",
       "      <td>2</td>\n",
       "    </tr>\n",
       "    <tr>\n",
       "      <th>top</th>\n",
       "      <td>Sorry, I'll call later</td>\n",
       "      <td>ham</td>\n",
       "    </tr>\n",
       "    <tr>\n",
       "      <th>freq</th>\n",
       "      <td>30</td>\n",
       "      <td>4825</td>\n",
       "    </tr>\n",
       "  </tbody>\n",
       "</table>\n",
       "</div>"
      ],
      "text/plain": [
       "                       Message   Tag\n",
       "count                     5572  5572\n",
       "unique                    5169     2\n",
       "top     Sorry, I'll call later   ham\n",
       "freq                        30  4825"
      ]
     },
     "execution_count": 90,
     "metadata": {},
     "output_type": "execute_result"
    }
   ],
   "source": [
    "sms_df.describe()"
   ]
  },
  {
   "cell_type": "markdown",
   "metadata": {},
   "source": [
    "Count= Total Count of Tag and Message is 5572.\n",
    "\n",
    "Unique=In Tag Column there are 2 unique characters and in Message 5169 meesages are unique\n",
    "\n",
    "Top= Tag Column as ham category as the majority class and in Message column **Sorry, I'll call later** is the Top message\n",
    "\n",
    "Freq= Ham has occured 4825 times and **Sorry, I'll call later** has occured 30 times "
   ]
  },
  {
   "cell_type": "code",
   "execution_count": 91,
   "metadata": {},
   "outputs": [
    {
     "data": {
      "text/html": [
       "<div>\n",
       "<style>\n",
       "    .dataframe thead tr:only-child th {\n",
       "        text-align: right;\n",
       "    }\n",
       "\n",
       "    .dataframe thead th {\n",
       "        text-align: left;\n",
       "    }\n",
       "\n",
       "    .dataframe tbody tr th {\n",
       "        vertical-align: top;\n",
       "    }\n",
       "</style>\n",
       "<table border=\"1\" class=\"dataframe\">\n",
       "  <thead>\n",
       "    <tr>\n",
       "      <th></th>\n",
       "      <th colspan=\"4\" halign=\"left\">Message</th>\n",
       "    </tr>\n",
       "    <tr>\n",
       "      <th></th>\n",
       "      <th>count</th>\n",
       "      <th>unique</th>\n",
       "      <th>top</th>\n",
       "      <th>freq</th>\n",
       "    </tr>\n",
       "    <tr>\n",
       "      <th>Tag</th>\n",
       "      <th></th>\n",
       "      <th></th>\n",
       "      <th></th>\n",
       "      <th></th>\n",
       "    </tr>\n",
       "  </thead>\n",
       "  <tbody>\n",
       "    <tr>\n",
       "      <th>ham</th>\n",
       "      <td>4825</td>\n",
       "      <td>4516</td>\n",
       "      <td>Sorry, I'll call later</td>\n",
       "      <td>30</td>\n",
       "    </tr>\n",
       "    <tr>\n",
       "      <th>spam</th>\n",
       "      <td>747</td>\n",
       "      <td>653</td>\n",
       "      <td>Please call our customer service representativ...</td>\n",
       "      <td>4</td>\n",
       "    </tr>\n",
       "  </tbody>\n",
       "</table>\n",
       "</div>"
      ],
      "text/plain": [
       "     Message                                                               \n",
       "       count unique                                                top freq\n",
       "Tag                                                                        \n",
       "ham     4825   4516                             Sorry, I'll call later   30\n",
       "spam     747    653  Please call our customer service representativ...    4"
      ]
     },
     "execution_count": 91,
     "metadata": {},
     "output_type": "execute_result"
    }
   ],
   "source": [
    "sms_df.groupby('Tag').describe()"
   ]
  },
  {
   "cell_type": "markdown",
   "metadata": {},
   "source": [
    "Dataset is imbalanced As the number of ham count is higher than spam count, in such case when the dataset is applied to Machine Learning the Algorithm becomes highly biased\n",
    "\n",
    "We have to consider the label which has less count here[ham] and extract the other label[spam] with the exact count so that the Data becomes Balanced.\n",
    "\n",
    "Imbalanced dataset can be checked whether it is balanced or not with the help of DummyClassifier we can check with the dataset later"
   ]
  },
  {
   "cell_type": "code",
   "execution_count": 92,
   "metadata": {},
   "outputs": [
    {
     "name": "stdout",
     "output_type": "stream",
     "text": [
      "<class 'pandas.core.frame.DataFrame'>\n",
      "RangeIndex: 5572 entries, 0 to 5571\n",
      "Data columns (total 2 columns):\n",
      "Message    5572 non-null object\n",
      "Tag        5572 non-null object\n",
      "dtypes: object(2)\n",
      "memory usage: 87.1+ KB\n"
     ]
    }
   ],
   "source": [
    "sms_df.info()"
   ]
  },
  {
   "cell_type": "markdown",
   "metadata": {},
   "source": [
    "Since Tag column is Categorical we can convert it into numerical where:\n",
    "\n",
    "spam=1\n",
    "\n",
    "ham=0"
   ]
  },
  {
   "cell_type": "code",
   "execution_count": 93,
   "metadata": {},
   "outputs": [
    {
     "data": {
      "text/plain": [
       "array(['ham', 'spam'], dtype=object)"
      ]
     },
     "execution_count": 93,
     "metadata": {},
     "output_type": "execute_result"
    }
   ],
   "source": [
    "sms_df['Tag'].unique()"
   ]
  },
  {
   "cell_type": "code",
   "execution_count": 94,
   "metadata": {
    "collapsed": true
   },
   "outputs": [],
   "source": [
    "sms_df['Tag']=np.where(sms_df['Tag']=='spam',1,0)"
   ]
  },
  {
   "cell_type": "code",
   "execution_count": 95,
   "metadata": {},
   "outputs": [
    {
     "data": {
      "text/html": [
       "<div>\n",
       "<style>\n",
       "    .dataframe thead tr:only-child th {\n",
       "        text-align: right;\n",
       "    }\n",
       "\n",
       "    .dataframe thead th {\n",
       "        text-align: left;\n",
       "    }\n",
       "\n",
       "    .dataframe tbody tr th {\n",
       "        vertical-align: top;\n",
       "    }\n",
       "</style>\n",
       "<table border=\"1\" class=\"dataframe\">\n",
       "  <thead>\n",
       "    <tr style=\"text-align: right;\">\n",
       "      <th></th>\n",
       "      <th>Message</th>\n",
       "      <th>Tag</th>\n",
       "    </tr>\n",
       "  </thead>\n",
       "  <tbody>\n",
       "    <tr>\n",
       "      <th>0</th>\n",
       "      <td>Go until jurong point, crazy.. Available only ...</td>\n",
       "      <td>0</td>\n",
       "    </tr>\n",
       "    <tr>\n",
       "      <th>1</th>\n",
       "      <td>Ok lar... Joking wif u oni...</td>\n",
       "      <td>0</td>\n",
       "    </tr>\n",
       "    <tr>\n",
       "      <th>2</th>\n",
       "      <td>Free entry in 2 a wkly comp to win FA Cup fina...</td>\n",
       "      <td>1</td>\n",
       "    </tr>\n",
       "    <tr>\n",
       "      <th>3</th>\n",
       "      <td>U dun say so early hor... U c already then say...</td>\n",
       "      <td>0</td>\n",
       "    </tr>\n",
       "    <tr>\n",
       "      <th>4</th>\n",
       "      <td>Nah I don't think he goes to usf, he lives aro...</td>\n",
       "      <td>0</td>\n",
       "    </tr>\n",
       "  </tbody>\n",
       "</table>\n",
       "</div>"
      ],
      "text/plain": [
       "                                             Message  Tag\n",
       "0  Go until jurong point, crazy.. Available only ...    0\n",
       "1                      Ok lar... Joking wif u oni...    0\n",
       "2  Free entry in 2 a wkly comp to win FA Cup fina...    1\n",
       "3  U dun say so early hor... U c already then say...    0\n",
       "4  Nah I don't think he goes to usf, he lives aro...    0"
      ]
     },
     "execution_count": 95,
     "metadata": {},
     "output_type": "execute_result"
    }
   ],
   "source": [
    "sms_df.head()"
   ]
  },
  {
   "cell_type": "code",
   "execution_count": 96,
   "metadata": {},
   "outputs": [
    {
     "data": {
      "text/html": [
       "<div>\n",
       "<style>\n",
       "    .dataframe thead tr:only-child th {\n",
       "        text-align: right;\n",
       "    }\n",
       "\n",
       "    .dataframe thead th {\n",
       "        text-align: left;\n",
       "    }\n",
       "\n",
       "    .dataframe tbody tr th {\n",
       "        vertical-align: top;\n",
       "    }\n",
       "</style>\n",
       "<table border=\"1\" class=\"dataframe\">\n",
       "  <thead>\n",
       "    <tr style=\"text-align: right;\">\n",
       "      <th></th>\n",
       "      <th>Tag</th>\n",
       "    </tr>\n",
       "  </thead>\n",
       "  <tbody>\n",
       "    <tr>\n",
       "      <th>count</th>\n",
       "      <td>5572.000000</td>\n",
       "    </tr>\n",
       "    <tr>\n",
       "      <th>mean</th>\n",
       "      <td>0.134063</td>\n",
       "    </tr>\n",
       "    <tr>\n",
       "      <th>std</th>\n",
       "      <td>0.340751</td>\n",
       "    </tr>\n",
       "    <tr>\n",
       "      <th>min</th>\n",
       "      <td>0.000000</td>\n",
       "    </tr>\n",
       "    <tr>\n",
       "      <th>25%</th>\n",
       "      <td>0.000000</td>\n",
       "    </tr>\n",
       "    <tr>\n",
       "      <th>50%</th>\n",
       "      <td>0.000000</td>\n",
       "    </tr>\n",
       "    <tr>\n",
       "      <th>75%</th>\n",
       "      <td>0.000000</td>\n",
       "    </tr>\n",
       "    <tr>\n",
       "      <th>max</th>\n",
       "      <td>1.000000</td>\n",
       "    </tr>\n",
       "  </tbody>\n",
       "</table>\n",
       "</div>"
      ],
      "text/plain": [
       "               Tag\n",
       "count  5572.000000\n",
       "mean      0.134063\n",
       "std       0.340751\n",
       "min       0.000000\n",
       "25%       0.000000\n",
       "50%       0.000000\n",
       "75%       0.000000\n",
       "max       1.000000"
      ]
     },
     "execution_count": 96,
     "metadata": {},
     "output_type": "execute_result"
    }
   ],
   "source": [
    "sms_df.describe()"
   ]
  },
  {
   "cell_type": "markdown",
   "metadata": {},
   "source": [
    "What percentage of Data are Spam?\n"
   ]
  },
  {
   "cell_type": "code",
   "execution_count": 97,
   "metadata": {},
   "outputs": [
    {
     "data": {
      "text/plain": [
       "13.406317300789663"
      ]
     },
     "execution_count": 97,
     "metadata": {},
     "output_type": "execute_result"
    }
   ],
   "source": [
    "sms_df['Tag'].mean()*100"
   ]
  },
  {
   "cell_type": "markdown",
   "metadata": {},
   "source": [
    "Before modifing the Message column let's apply MultinomialNB classifier after Counter and TFid Vectorization  and check Accuracy score.\n",
    "\n",
    "During Text processing,cleaning the text[preprocessing] is necessary, the cleaned text have to be converted into numerical format where each word is represented by a matrix. Which is also known as word embedding.\n",
    "\n",
    "TFIDF[Term frequency Inverse document frequency]  allows us to weight terms based on how important they are to a document."
   ]
  },
  {
   "cell_type": "code",
   "execution_count": 98,
   "metadata": {
    "collapsed": true
   },
   "outputs": [],
   "source": [
    "from sklearn.naive_bayes import MultinomialNB\n",
    "from sklearn.feature_extraction.text import CountVectorizer,TfidfVectorizer\n",
    "from sklearn.model_selection import train_test_split\n",
    "from sklearn.metrics import roc_auc_score"
   ]
  },
  {
   "cell_type": "code",
   "execution_count": 99,
   "metadata": {
    "collapsed": true
   },
   "outputs": [],
   "source": [
    "X_train,X_test,y_train,y_test=train_test_split(sms_df['Message'],sms_df['Tag'],random_state=0)"
   ]
  },
  {
   "cell_type": "code",
   "execution_count": 100,
   "metadata": {
    "collapsed": true
   },
   "outputs": [],
   "source": [
    "# CountVectorizer\n",
    "count=CountVectorizer().fit(X_train)\n",
    "X_train_Count=count.transform(X_train)\n",
    "X_test_count=count.transform(X_test)\n",
    "\n",
    "#TfidfVectorizer\n",
    "\n",
    "Tfid=TfidfVectorizer().fit(X_train)\n",
    "X_train_Tfid=Tfid.transform(X_train)\n",
    "X_test_Tfid=Tfid.transform(X_test)"
   ]
  },
  {
   "cell_type": "markdown",
   "metadata": {},
   "source": [
    "min_df[x]: The minimum number of times the term variable should appear in the document i.e the term variable wil be deleted which appears less than x times\n",
    "\n",
    "ngram_range[min,max]: the grouping is done from min upto max times"
   ]
  },
  {
   "cell_type": "code",
   "execution_count": null,
   "metadata": {},
   "outputs": [],
   "source": []
  },
  {
   "cell_type": "code",
   "execution_count": 101,
   "metadata": {},
   "outputs": [
    {
     "name": "stdout",
     "output_type": "stream",
     "text": [
      "ROC score by applying TfidfVectorizer: 0.94923857868\n"
     ]
    }
   ],
   "source": [
    "clf_Tfid=MultinomialNB(alpha=0.1)\n",
    "clf_Tfid.fit(X_train_Tfid,y_train)\n",
    "pred=clf_Tfid.predict(X_test_Tfid)\n",
    "print('ROC score by applying TfidfVectorizer:',roc_auc_score(y_test,pred))"
   ]
  },
  {
   "cell_type": "code",
   "execution_count": 102,
   "metadata": {},
   "outputs": [
    {
     "name": "stdout",
     "output_type": "stream",
     "text": [
      "Smallest 20  Count vectorizer coefficients:\n",
      "\n",
      "['000' '00']\n",
      "\n",
      "\n",
      "\n",
      "Largest 20  Count vectorizer coefficients:\n",
      "\n",
      "['000']\n"
     ]
    }
   ],
   "source": [
    "feature_names=np.array(count.get_feature_names())\n",
    "count_coefficients=clf_count.coef_[0].argsort()\n",
    "\n",
    "print('Smallest 20  Count vectorizer coefficients:\\n')\n",
    "print(feature_names[count_coefficients[:20]])\n",
    "print('\\n\\n')\n",
    "print('Largest 20  Count vectorizer coefficients:\\n')\n",
    "print(feature_names[count_coefficients[-21:-1]])"
   ]
  },
  {
   "cell_type": "code",
   "execution_count": 103,
   "metadata": {},
   "outputs": [
    {
     "name": "stdout",
     "output_type": "stream",
     "text": [
      "Smallest 20  Tfid vectorizer coefficients:\n",
      "\n",
      "['justfound' 'hostel' 'host' 'hospitals' 'hospital' 'hos' 'horse'\n",
      " 'horrible' 'screwd' 'scrounge' 'sculpture' 'hor' 'hoping' 'hopes'\n",
      " 'hopefully' 'hopeful' 'screen' 'hoped' 'screaming' 'scream']\n",
      "\n",
      "\n",
      "\n",
      "Largest 20  Tfid vectorizer coefficients:\n",
      "\n",
      "['have' 'prize' 'reply' 'www' 'is' 'the' 'from' 'ur' 'claim' 'text'\n",
      " 'mobile' 'stop' 'for' 'now' 'or' 'you' 'txt' 'your' 'free' 'call']\n"
     ]
    }
   ],
   "source": [
    "feature_names=np.array(Tfid.get_feature_names())\n",
    "Tfid_coefficients=clf_Tfid.coef_[0].argsort()\n",
    "\n",
    "print('Smallest 20  Tfid vectorizer coefficients:\\n')\n",
    "print(feature_names[Tfid_coefficients[:20]])\n",
    "print('\\n\\n')\n",
    "print('Largest 20  Tfid vectorizer coefficients:\\n')\n",
    "print(feature_names[Tfid_coefficients[-21:-1]])"
   ]
  },
  {
   "cell_type": "code",
   "execution_count": 104,
   "metadata": {
    "collapsed": true
   },
   "outputs": [],
   "source": [
    "from sklearn.dummy import DummyClassifier\n",
    "\n",
    "dummy=DummyClassifier(strategy='prior').fit(X_train_Count,y_train)"
   ]
  },
  {
   "cell_type": "code",
   "execution_count": 105,
   "metadata": {},
   "outputs": [
    {
     "data": {
      "text/plain": [
       "0.5"
      ]
     },
     "execution_count": 105,
     "metadata": {},
     "output_type": "execute_result"
    }
   ],
   "source": [
    "dummy_predict=dummy.predict(X_test_count)\n",
    "roc_auc_score(y_test,dummy_predict)"
   ]
  },
  {
   "cell_type": "markdown",
   "metadata": {},
   "source": [
    "By checking with the DummyClassifier we can see that the Classifier is performing Good with Provided dataset no modification needs to de done to Dataset. Let's continue Feature Engineering with the same Dataset."
   ]
  },
  {
   "cell_type": "code",
   "execution_count": null,
   "metadata": {
    "collapsed": true
   },
   "outputs": [],
   "source": []
  },
  {
   "cell_type": "code",
   "execution_count": 106,
   "metadata": {},
   "outputs": [
    {
     "data": {
      "text/plain": [
       "(4179, 7359)"
      ]
     },
     "execution_count": 106,
     "metadata": {},
     "output_type": "execute_result"
    }
   ],
   "source": [
    "X_train_Count.shape"
   ]
  },
  {
   "cell_type": "code",
   "execution_count": 107,
   "metadata": {
    "collapsed": true
   },
   "outputs": [],
   "source": [
    "sum1=X_train_Count.sum(axis=0)"
   ]
  },
  {
   "cell_type": "code",
   "execution_count": 108,
   "metadata": {},
   "outputs": [
    {
     "data": {
      "text/plain": [
       "7359"
      ]
     },
     "execution_count": 108,
     "metadata": {},
     "output_type": "execute_result"
    }
   ],
   "source": [
    "len(count.get_feature_names())"
   ]
  },
  {
   "cell_type": "code",
   "execution_count": 109,
   "metadata": {},
   "outputs": [
    {
     "data": {
      "text/plain": [
       "(1, 7359)"
      ]
     },
     "execution_count": 109,
     "metadata": {},
     "output_type": "execute_result"
    }
   ],
   "source": [
    "sum1.shape"
   ]
  },
  {
   "cell_type": "markdown",
   "metadata": {},
   "source": [
    "We can get the largest and smallest countvectorizer and Tfid features,  "
   ]
  },
  {
   "cell_type": "code",
   "execution_count": 110,
   "metadata": {},
   "outputs": [
    {
     "name": "stdout",
     "output_type": "stream",
     "text": [
      "20 features with lowest score\n",
      "              Feature  Score\n",
      "3679        justfound      1\n",
      "4184        meatballs      1\n",
      "4188         medicine      1\n",
      "4144  masteriastering      1\n",
      "4185          mecause      1\n",
      "4146              mat      1\n",
      "4148          matched      1\n",
      "4152             math      1\n",
      "4153      mathematics      1\n",
      "4154          mathews      1\n",
      "4157          matters      1\n",
      "4158          matthew      1\n",
      "4161              max      1\n",
      "4163             max6      1\n",
      "4165          maximum      1\n",
      "4166             maxã      1\n",
      "4173            mcfly      1\n",
      "4176            meals      1\n",
      "4179      meaningless      1\n",
      "4194            meets      1\n",
      "20 features with highest score\n",
      "     Feature  Score\n",
      "6576      to   1670\n",
      "7322     you   1660\n",
      "6461     the    977\n",
      "897      and    716\n",
      "3452      in    707\n",
      "3555      is    666\n",
      "4174      me    580\n",
      "4418      my    568\n",
      "3566      it    558\n",
      "2788     for    517\n",
      "7327    your    482\n",
      "4633      of    458\n",
      "1522    call    452\n",
      "3184    have    432\n",
      "6455    that    424\n",
      "4674      on    390\n",
      "4587     now    367\n",
      "1544     can    361\n",
      "978      are    360\n",
      "5958      so    337\n"
     ]
    }
   ],
   "source": [
    "# Countvectorizer Features\n",
    "\n",
    "data=[]\n",
    "\n",
    "for col,features in enumerate(count.get_feature_names()):\n",
    "    data.append([features,sum1[0,col]])\n",
    "    \n",
    "feature_data=pd.DataFrame(data,columns=['Feature','Score'])\n",
    "feature_data.sort_values(by='Score',inplace=True)\n",
    "\n",
    "print('20 features with lowest score')\n",
    "\n",
    "print(feature_data.head(20).sort_values(by='Score',ascending=False))\n",
    "\n",
    "print('20 features with highest score')\n",
    "print(feature_data.tail(20).sort_values(by='Score',ascending=False))"
   ]
  },
  {
   "cell_type": "code",
   "execution_count": 111,
   "metadata": {},
   "outputs": [
    {
     "name": "stdout",
     "output_type": "stream",
     "text": [
      "20 features with lowest score\n",
      "\n",
      "\n",
      "           Feature     Score\n",
      "6756         ugadi  0.091259\n",
      "1700     childrens  0.091259\n",
      "3203        healer  0.074474\n",
      "5195       pudunga  0.074474\n",
      "6319   sympathetic  0.074474\n",
      "2592  exterminator  0.074474\n",
      "1047      athletic  0.074474\n",
      "4726     organizer  0.074474\n",
      "4898          pest  0.074474\n",
      "6892        venaam  0.074474\n",
      "690         aaniye  0.074474\n",
      "2175    determined  0.074474\n",
      "1951    courageous  0.074474\n",
      "2153    dependable  0.074474\n",
      "1836     companion  0.074474\n",
      "6211       stylist  0.074474\n",
      "1679          chef  0.074474\n",
      "5187  psychiatrist  0.074474\n",
      "5189  psychologist  0.074474\n",
      "3929      listener  0.074474\n",
      "\n",
      "\n",
      "\n",
      "20 features with highest score\n",
      "\n",
      "\n",
      "     Feature       Score\n",
      "7322     you  185.772688\n",
      "6576      to  154.881389\n",
      "6461     the  109.918312\n",
      "3452      in   96.014227\n",
      "4174      me   87.589014\n",
      "897      and   83.875364\n",
      "3555      is   83.644980\n",
      "4418      my   78.358587\n",
      "3566      it   78.047917\n",
      "1522    call   74.945438\n",
      "4657      ok   71.155421\n",
      "2788     for   69.815470\n",
      "7327    your   69.099079\n",
      "6455    that   67.117454\n",
      "3184    have   66.213329\n",
      "978      are   64.424391\n",
      "1544     can   61.609661\n",
      "4587     now   61.311156\n",
      "4633      of   60.743102\n",
      "4674      on   57.867325\n"
     ]
    }
   ],
   "source": [
    "#Tfidf\n",
    "\n",
    "data1=[]\n",
    "\n",
    "Tf_sum=X_train_Tfid.sum(axis=0)\n",
    "\n",
    "for col,features in enumerate(Tfid.get_feature_names()):\n",
    "    data1.append([features,Tf_sum[0,col]])\n",
    "    \n",
    "feature_data=pd.DataFrame(data1,columns=['Feature','Score'])\n",
    "feature_data.sort_values(by='Score',inplace=True)\n",
    "\n",
    "print('20 features with lowest score')\n",
    "print('\\n')\n",
    "\n",
    "print(feature_data.head(20).sort_values(by='Score',ascending=False))\n",
    "print('\\n\\n')\n",
    "print('20 features with highest score')\n",
    "print('\\n')\n",
    "print(feature_data.tail(20).sort_values(by='Score',ascending=False))"
   ]
  },
  {
   "cell_type": "markdown",
   "metadata": {},
   "source": [
    "# Feature Engineering"
   ]
  },
  {
   "cell_type": "markdown",
   "metadata": {},
   "source": [
    "Making use of stopwords to the Message column to delete all the stopwords,and also checking the length of message length before and after applying **stopwords**"
   ]
  },
  {
   "cell_type": "code",
   "execution_count": 112,
   "metadata": {},
   "outputs": [
    {
     "data": {
      "text/html": [
       "<div>\n",
       "<style>\n",
       "    .dataframe thead tr:only-child th {\n",
       "        text-align: right;\n",
       "    }\n",
       "\n",
       "    .dataframe thead th {\n",
       "        text-align: left;\n",
       "    }\n",
       "\n",
       "    .dataframe tbody tr th {\n",
       "        vertical-align: top;\n",
       "    }\n",
       "</style>\n",
       "<table border=\"1\" class=\"dataframe\">\n",
       "  <thead>\n",
       "    <tr style=\"text-align: right;\">\n",
       "      <th></th>\n",
       "      <th>Message</th>\n",
       "      <th>Tag</th>\n",
       "      <th>Message_length</th>\n",
       "    </tr>\n",
       "  </thead>\n",
       "  <tbody>\n",
       "    <tr>\n",
       "      <th>0</th>\n",
       "      <td>Go until jurong point, crazy.. Available only ...</td>\n",
       "      <td>0</td>\n",
       "      <td>111</td>\n",
       "    </tr>\n",
       "    <tr>\n",
       "      <th>1</th>\n",
       "      <td>Ok lar... Joking wif u oni...</td>\n",
       "      <td>0</td>\n",
       "      <td>29</td>\n",
       "    </tr>\n",
       "    <tr>\n",
       "      <th>2</th>\n",
       "      <td>Free entry in 2 a wkly comp to win FA Cup fina...</td>\n",
       "      <td>1</td>\n",
       "      <td>155</td>\n",
       "    </tr>\n",
       "    <tr>\n",
       "      <th>3</th>\n",
       "      <td>U dun say so early hor... U c already then say...</td>\n",
       "      <td>0</td>\n",
       "      <td>49</td>\n",
       "    </tr>\n",
       "    <tr>\n",
       "      <th>4</th>\n",
       "      <td>Nah I don't think he goes to usf, he lives aro...</td>\n",
       "      <td>0</td>\n",
       "      <td>61</td>\n",
       "    </tr>\n",
       "  </tbody>\n",
       "</table>\n",
       "</div>"
      ],
      "text/plain": [
       "                                             Message  Tag  Message_length\n",
       "0  Go until jurong point, crazy.. Available only ...    0             111\n",
       "1                      Ok lar... Joking wif u oni...    0              29\n",
       "2  Free entry in 2 a wkly comp to win FA Cup fina...    1             155\n",
       "3  U dun say so early hor... U c already then say...    0              49\n",
       "4  Nah I don't think he goes to usf, he lives aro...    0              61"
      ]
     },
     "execution_count": 112,
     "metadata": {},
     "output_type": "execute_result"
    }
   ],
   "source": [
    "sms_df['Message_length']=sms_df['Message'].apply(lambda x:len(x))\n",
    "sms_df.head()"
   ]
  },
  {
   "cell_type": "code",
   "execution_count": 113,
   "metadata": {},
   "outputs": [
    {
     "name": "stdout",
     "output_type": "stream",
     "text": [
      "Before applying Stopwords:\n",
      "\n",
      "['This', 'is', 'an', 'example', 'showing', 'of', 'stop', 'word', 'filteration', '.']\n",
      "\n",
      "\n",
      "\n",
      "After applying Stopwords:\n",
      "\n",
      "['This', 'example', 'showing', 'stop', 'word', 'filteration', '.']\n"
     ]
    }
   ],
   "source": [
    "from nltk.corpus import stopwords\n",
    "from nltk.tokenize import word_tokenize\n",
    "\n",
    "example_sentence='This is an example showing of stop word filteration.'\n",
    "words=word_tokenize(example_sentence)\n",
    "print('Before applying Stopwords:\\n\\n{}'.format(words))\n",
    "stop_words=set(stopwords.words('english'))\n",
    "\n",
    "w=[]\n",
    "for i in words:\n",
    "    if i not in stop_words:\n",
    "        w.append(i)\n",
    "print('\\n\\n')\n",
    "print('After applying Stopwords:\\n\\n{}'.format(w))"
   ]
  },
  {
   "cell_type": "code",
   "execution_count": 114,
   "metadata": {
    "collapsed": true
   },
   "outputs": [],
   "source": [
    "sms_df['Message_stop']=sms_df['Message'].apply(lambda x: ' '.join([w for w in x.split() if w not in stop_words ]))"
   ]
  },
  {
   "cell_type": "code",
   "execution_count": 115,
   "metadata": {},
   "outputs": [
    {
     "data": {
      "text/html": [
       "<div>\n",
       "<style>\n",
       "    .dataframe thead tr:only-child th {\n",
       "        text-align: right;\n",
       "    }\n",
       "\n",
       "    .dataframe thead th {\n",
       "        text-align: left;\n",
       "    }\n",
       "\n",
       "    .dataframe tbody tr th {\n",
       "        vertical-align: top;\n",
       "    }\n",
       "</style>\n",
       "<table border=\"1\" class=\"dataframe\">\n",
       "  <thead>\n",
       "    <tr style=\"text-align: right;\">\n",
       "      <th></th>\n",
       "      <th>Message</th>\n",
       "      <th>Tag</th>\n",
       "      <th>Message_length</th>\n",
       "      <th>Message_stop</th>\n",
       "      <th>Message_length_stop</th>\n",
       "    </tr>\n",
       "  </thead>\n",
       "  <tbody>\n",
       "    <tr>\n",
       "      <th>0</th>\n",
       "      <td>Go until jurong point, crazy.. Available only ...</td>\n",
       "      <td>0</td>\n",
       "      <td>111</td>\n",
       "      <td>Go jurong point, crazy.. Available bugis n gre...</td>\n",
       "      <td>91</td>\n",
       "    </tr>\n",
       "    <tr>\n",
       "      <th>1</th>\n",
       "      <td>Ok lar... Joking wif u oni...</td>\n",
       "      <td>0</td>\n",
       "      <td>29</td>\n",
       "      <td>Ok lar... Joking wif u oni...</td>\n",
       "      <td>29</td>\n",
       "    </tr>\n",
       "    <tr>\n",
       "      <th>2</th>\n",
       "      <td>Free entry in 2 a wkly comp to win FA Cup fina...</td>\n",
       "      <td>1</td>\n",
       "      <td>155</td>\n",
       "      <td>Free entry 2 wkly comp win FA Cup final tkts 2...</td>\n",
       "      <td>141</td>\n",
       "    </tr>\n",
       "    <tr>\n",
       "      <th>3</th>\n",
       "      <td>U dun say so early hor... U c already then say...</td>\n",
       "      <td>0</td>\n",
       "      <td>49</td>\n",
       "      <td>U dun say early hor... U c already say...</td>\n",
       "      <td>41</td>\n",
       "    </tr>\n",
       "    <tr>\n",
       "      <th>4</th>\n",
       "      <td>Nah I don't think he goes to usf, he lives aro...</td>\n",
       "      <td>0</td>\n",
       "      <td>61</td>\n",
       "      <td>Nah I think goes usf, lives around though</td>\n",
       "      <td>41</td>\n",
       "    </tr>\n",
       "  </tbody>\n",
       "</table>\n",
       "</div>"
      ],
      "text/plain": [
       "                                             Message  Tag  Message_length  \\\n",
       "0  Go until jurong point, crazy.. Available only ...    0             111   \n",
       "1                      Ok lar... Joking wif u oni...    0              29   \n",
       "2  Free entry in 2 a wkly comp to win FA Cup fina...    1             155   \n",
       "3  U dun say so early hor... U c already then say...    0              49   \n",
       "4  Nah I don't think he goes to usf, he lives aro...    0              61   \n",
       "\n",
       "                                        Message_stop  Message_length_stop  \n",
       "0  Go jurong point, crazy.. Available bugis n gre...                   91  \n",
       "1                      Ok lar... Joking wif u oni...                   29  \n",
       "2  Free entry 2 wkly comp win FA Cup final tkts 2...                  141  \n",
       "3          U dun say early hor... U c already say...                   41  \n",
       "4          Nah I think goes usf, lives around though                   41  "
      ]
     },
     "execution_count": 115,
     "metadata": {},
     "output_type": "execute_result"
    }
   ],
   "source": [
    "sms_df['Message_length_stop']=sms_df['Message_stop'].apply(lambda x:len(x))\n",
    "sms_df.head()"
   ]
  },
  {
   "cell_type": "markdown",
   "metadata": {},
   "source": [
    "Deleting Message and Message_length column"
   ]
  },
  {
   "cell_type": "code",
   "execution_count": 116,
   "metadata": {
    "collapsed": true
   },
   "outputs": [],
   "source": [
    "sms_df.drop(['Message','Message_length'],axis=1,inplace=True)"
   ]
  },
  {
   "cell_type": "code",
   "execution_count": 117,
   "metadata": {},
   "outputs": [
    {
     "data": {
      "text/html": [
       "<div>\n",
       "<style>\n",
       "    .dataframe thead tr:only-child th {\n",
       "        text-align: right;\n",
       "    }\n",
       "\n",
       "    .dataframe thead th {\n",
       "        text-align: left;\n",
       "    }\n",
       "\n",
       "    .dataframe tbody tr th {\n",
       "        vertical-align: top;\n",
       "    }\n",
       "</style>\n",
       "<table border=\"1\" class=\"dataframe\">\n",
       "  <thead>\n",
       "    <tr style=\"text-align: right;\">\n",
       "      <th></th>\n",
       "      <th>Tag</th>\n",
       "      <th>Message_stop</th>\n",
       "      <th>Message_length_stop</th>\n",
       "    </tr>\n",
       "  </thead>\n",
       "  <tbody>\n",
       "    <tr>\n",
       "      <th>0</th>\n",
       "      <td>0</td>\n",
       "      <td>Go jurong point, crazy.. Available bugis n gre...</td>\n",
       "      <td>91</td>\n",
       "    </tr>\n",
       "    <tr>\n",
       "      <th>1</th>\n",
       "      <td>0</td>\n",
       "      <td>Ok lar... Joking wif u oni...</td>\n",
       "      <td>29</td>\n",
       "    </tr>\n",
       "    <tr>\n",
       "      <th>2</th>\n",
       "      <td>1</td>\n",
       "      <td>Free entry 2 wkly comp win FA Cup final tkts 2...</td>\n",
       "      <td>141</td>\n",
       "    </tr>\n",
       "    <tr>\n",
       "      <th>3</th>\n",
       "      <td>0</td>\n",
       "      <td>U dun say early hor... U c already say...</td>\n",
       "      <td>41</td>\n",
       "    </tr>\n",
       "    <tr>\n",
       "      <th>4</th>\n",
       "      <td>0</td>\n",
       "      <td>Nah I think goes usf, lives around though</td>\n",
       "      <td>41</td>\n",
       "    </tr>\n",
       "  </tbody>\n",
       "</table>\n",
       "</div>"
      ],
      "text/plain": [
       "   Tag                                       Message_stop  Message_length_stop\n",
       "0    0  Go jurong point, crazy.. Available bugis n gre...                   91\n",
       "1    0                      Ok lar... Joking wif u oni...                   29\n",
       "2    1  Free entry 2 wkly comp win FA Cup final tkts 2...                  141\n",
       "3    0          U dun say early hor... U c already say...                   41\n",
       "4    0          Nah I think goes usf, lives around though                   41"
      ]
     },
     "execution_count": 117,
     "metadata": {},
     "output_type": "execute_result"
    }
   ],
   "source": [
    "sms_df.head()"
   ]
  },
  {
   "cell_type": "code",
   "execution_count": 118,
   "metadata": {},
   "outputs": [
    {
     "data": {
      "text/plain": [
       "<matplotlib.text.Text at 0x7f33b960f588>"
      ]
     },
     "execution_count": 118,
     "metadata": {},
     "output_type": "execute_result"
    },
    {
     "data": {
      "image/png": "[encoded data removed]",
      "text/plain": [
       "<matplotlib.figure.Figure at 0x7f33b93cf278>"
      ]
     },
     "metadata": {},
     "output_type": "display_data"
    }
   ],
   "source": [
    "plt.figure(figsize=(7,5))\n",
    "sns.countplot(x='Tag',data=sms_df)\n",
    "plt.title('Total Count of Spam and ham message\\n 1=Spam and 0=ham',size=15)"
   ]
  },
  {
   "cell_type": "markdown",
   "metadata": {},
   "source": [
    "We can also check the total number of digits in Message_stop column and add it as an extra feature"
   ]
  },
  {
   "cell_type": "code",
   "execution_count": 119,
   "metadata": {
    "collapsed": true
   },
   "outputs": [],
   "source": [
    "sms_df['Number_count']=sms_df['Message_stop'].apply(lambda x:len(''.join([n for n in x if n.isdigit()])))"
   ]
  },
  {
   "cell_type": "code",
   "execution_count": 120,
   "metadata": {},
   "outputs": [
    {
     "data": {
      "text/html": [
       "<div>\n",
       "<style>\n",
       "    .dataframe thead tr:only-child th {\n",
       "        text-align: right;\n",
       "    }\n",
       "\n",
       "    .dataframe thead th {\n",
       "        text-align: left;\n",
       "    }\n",
       "\n",
       "    .dataframe tbody tr th {\n",
       "        vertical-align: top;\n",
       "    }\n",
       "</style>\n",
       "<table border=\"1\" class=\"dataframe\">\n",
       "  <thead>\n",
       "    <tr style=\"text-align: right;\">\n",
       "      <th></th>\n",
       "      <th>Tag</th>\n",
       "      <th>Message_stop</th>\n",
       "      <th>Message_length_stop</th>\n",
       "      <th>Number_count</th>\n",
       "    </tr>\n",
       "  </thead>\n",
       "  <tbody>\n",
       "    <tr>\n",
       "      <th>0</th>\n",
       "      <td>0</td>\n",
       "      <td>Go jurong point, crazy.. Available bugis n gre...</td>\n",
       "      <td>91</td>\n",
       "      <td>0</td>\n",
       "    </tr>\n",
       "    <tr>\n",
       "      <th>1</th>\n",
       "      <td>0</td>\n",
       "      <td>Ok lar... Joking wif u oni...</td>\n",
       "      <td>29</td>\n",
       "      <td>0</td>\n",
       "    </tr>\n",
       "    <tr>\n",
       "      <th>2</th>\n",
       "      <td>1</td>\n",
       "      <td>Free entry 2 wkly comp win FA Cup final tkts 2...</td>\n",
       "      <td>141</td>\n",
       "      <td>25</td>\n",
       "    </tr>\n",
       "    <tr>\n",
       "      <th>3</th>\n",
       "      <td>0</td>\n",
       "      <td>U dun say early hor... U c already say...</td>\n",
       "      <td>41</td>\n",
       "      <td>0</td>\n",
       "    </tr>\n",
       "    <tr>\n",
       "      <th>4</th>\n",
       "      <td>0</td>\n",
       "      <td>Nah I think goes usf, lives around though</td>\n",
       "      <td>41</td>\n",
       "      <td>0</td>\n",
       "    </tr>\n",
       "    <tr>\n",
       "      <th>5</th>\n",
       "      <td>1</td>\n",
       "      <td>FreeMsg Hey darling 3 week's word back! I'd li...</td>\n",
       "      <td>98</td>\n",
       "      <td>4</td>\n",
       "    </tr>\n",
       "  </tbody>\n",
       "</table>\n",
       "</div>"
      ],
      "text/plain": [
       "   Tag                                       Message_stop  \\\n",
       "0    0  Go jurong point, crazy.. Available bugis n gre...   \n",
       "1    0                      Ok lar... Joking wif u oni...   \n",
       "2    1  Free entry 2 wkly comp win FA Cup final tkts 2...   \n",
       "3    0          U dun say early hor... U c already say...   \n",
       "4    0          Nah I think goes usf, lives around though   \n",
       "5    1  FreeMsg Hey darling 3 week's word back! I'd li...   \n",
       "\n",
       "   Message_length_stop  Number_count  \n",
       "0                   91             0  \n",
       "1                   29             0  \n",
       "2                  141            25  \n",
       "3                   41             0  \n",
       "4                   41             0  \n",
       "5                   98             4  "
      ]
     },
     "execution_count": 120,
     "metadata": {},
     "output_type": "execute_result"
    }
   ],
   "source": [
    "sms_df.head(6)"
   ]
  },
  {
   "cell_type": "code",
   "execution_count": 121,
   "metadata": {},
   "outputs": [
    {
     "data": {
      "text/plain": [
       "\"FreeMsg Hey darling 3 week's word back! I'd like fun still? Tb ok! XxX std chgs send, Ã¥Â£1.50 rcv\""
      ]
     },
     "execution_count": 121,
     "metadata": {},
     "output_type": "execute_result"
    }
   ],
   "source": [
    "sms_df['Message_stop'][5] # 6th message contains exactly 4 digits"
   ]
  },
  {
   "cell_type": "code",
   "execution_count": 122,
   "metadata": {},
   "outputs": [
    {
     "data": {
      "text/html": [
       "<div>\n",
       "<style>\n",
       "    .dataframe thead tr:only-child th {\n",
       "        text-align: right;\n",
       "    }\n",
       "\n",
       "    .dataframe thead th {\n",
       "        text-align: left;\n",
       "    }\n",
       "\n",
       "    .dataframe tbody tr th {\n",
       "        vertical-align: top;\n",
       "    }\n",
       "</style>\n",
       "<table border=\"1\" class=\"dataframe\">\n",
       "  <thead>\n",
       "    <tr style=\"text-align: right;\">\n",
       "      <th></th>\n",
       "      <th>Tag</th>\n",
       "      <th>Message_length_stop</th>\n",
       "      <th>Number_count</th>\n",
       "    </tr>\n",
       "  </thead>\n",
       "  <tbody>\n",
       "    <tr>\n",
       "      <th>count</th>\n",
       "      <td>747.0</td>\n",
       "      <td>747.000000</td>\n",
       "      <td>747.000000</td>\n",
       "    </tr>\n",
       "    <tr>\n",
       "      <th>mean</th>\n",
       "      <td>1.0</td>\n",
       "      <td>119.854083</td>\n",
       "      <td>15.759036</td>\n",
       "    </tr>\n",
       "    <tr>\n",
       "      <th>std</th>\n",
       "      <td>0.0</td>\n",
       "      <td>28.257602</td>\n",
       "      <td>8.755896</td>\n",
       "    </tr>\n",
       "    <tr>\n",
       "      <th>min</th>\n",
       "      <td>1.0</td>\n",
       "      <td>13.000000</td>\n",
       "      <td>0.000000</td>\n",
       "    </tr>\n",
       "    <tr>\n",
       "      <th>25%</th>\n",
       "      <td>1.0</td>\n",
       "      <td>108.000000</td>\n",
       "      <td>10.000000</td>\n",
       "    </tr>\n",
       "    <tr>\n",
       "      <th>50%</th>\n",
       "      <td>1.0</td>\n",
       "      <td>125.000000</td>\n",
       "      <td>16.000000</td>\n",
       "    </tr>\n",
       "    <tr>\n",
       "      <th>75%</th>\n",
       "      <td>1.0</td>\n",
       "      <td>139.000000</td>\n",
       "      <td>22.000000</td>\n",
       "    </tr>\n",
       "    <tr>\n",
       "      <th>max</th>\n",
       "      <td>1.0</td>\n",
       "      <td>173.000000</td>\n",
       "      <td>47.000000</td>\n",
       "    </tr>\n",
       "  </tbody>\n",
       "</table>\n",
       "</div>"
      ],
      "text/plain": [
       "         Tag  Message_length_stop  Number_count\n",
       "count  747.0           747.000000    747.000000\n",
       "mean     1.0           119.854083     15.759036\n",
       "std      0.0            28.257602      8.755896\n",
       "min      1.0            13.000000      0.000000\n",
       "25%      1.0           108.000000     10.000000\n",
       "50%      1.0           125.000000     16.000000\n",
       "75%      1.0           139.000000     22.000000\n",
       "max      1.0           173.000000     47.000000"
      ]
     },
     "execution_count": 122,
     "metadata": {},
     "output_type": "execute_result"
    }
   ],
   "source": [
    "sms_df[sms_df['Tag']==1].describe()"
   ]
  },
  {
   "cell_type": "code",
   "execution_count": 123,
   "metadata": {},
   "outputs": [
    {
     "data": {
      "text/html": [
       "<div>\n",
       "<style>\n",
       "    .dataframe thead tr:only-child th {\n",
       "        text-align: right;\n",
       "    }\n",
       "\n",
       "    .dataframe thead th {\n",
       "        text-align: left;\n",
       "    }\n",
       "\n",
       "    .dataframe tbody tr th {\n",
       "        vertical-align: top;\n",
       "    }\n",
       "</style>\n",
       "<table border=\"1\" class=\"dataframe\">\n",
       "  <thead>\n",
       "    <tr style=\"text-align: right;\">\n",
       "      <th></th>\n",
       "      <th>Tag</th>\n",
       "      <th>Message_length_stop</th>\n",
       "      <th>Number_count</th>\n",
       "    </tr>\n",
       "  </thead>\n",
       "  <tbody>\n",
       "    <tr>\n",
       "      <th>count</th>\n",
       "      <td>4825.0</td>\n",
       "      <td>4825.000000</td>\n",
       "      <td>4825.000000</td>\n",
       "    </tr>\n",
       "    <tr>\n",
       "      <th>mean</th>\n",
       "      <td>0.0</td>\n",
       "      <td>54.226114</td>\n",
       "      <td>0.299275</td>\n",
       "    </tr>\n",
       "    <tr>\n",
       "      <th>std</th>\n",
       "      <td>0.0</td>\n",
       "      <td>44.307890</td>\n",
       "      <td>1.063086</td>\n",
       "    </tr>\n",
       "    <tr>\n",
       "      <th>min</th>\n",
       "      <td>0.0</td>\n",
       "      <td>2.000000</td>\n",
       "      <td>0.000000</td>\n",
       "    </tr>\n",
       "    <tr>\n",
       "      <th>25%</th>\n",
       "      <td>0.0</td>\n",
       "      <td>25.000000</td>\n",
       "      <td>0.000000</td>\n",
       "    </tr>\n",
       "    <tr>\n",
       "      <th>50%</th>\n",
       "      <td>0.0</td>\n",
       "      <td>40.000000</td>\n",
       "      <td>0.000000</td>\n",
       "    </tr>\n",
       "    <tr>\n",
       "      <th>75%</th>\n",
       "      <td>0.0</td>\n",
       "      <td>70.000000</td>\n",
       "      <td>0.000000</td>\n",
       "    </tr>\n",
       "    <tr>\n",
       "      <th>max</th>\n",
       "      <td>0.0</td>\n",
       "      <td>566.000000</td>\n",
       "      <td>23.000000</td>\n",
       "    </tr>\n",
       "  </tbody>\n",
       "</table>\n",
       "</div>"
      ],
      "text/plain": [
       "          Tag  Message_length_stop  Number_count\n",
       "count  4825.0          4825.000000   4825.000000\n",
       "mean      0.0            54.226114      0.299275\n",
       "std       0.0            44.307890      1.063086\n",
       "min       0.0             2.000000      0.000000\n",
       "25%       0.0            25.000000      0.000000\n",
       "50%       0.0            40.000000      0.000000\n",
       "75%       0.0            70.000000      0.000000\n",
       "max       0.0           566.000000     23.000000"
      ]
     },
     "execution_count": 123,
     "metadata": {},
     "output_type": "execute_result"
    }
   ],
   "source": [
    "sms_df[sms_df['Tag']==0].describe()"
   ]
  },
  {
   "cell_type": "code",
   "execution_count": 124,
   "metadata": {},
   "outputs": [
    {
     "data": {
      "image/png": "[encoded data removed]",
      "text/plain": [
       "<matplotlib.figure.Figure at 0x7f33b96fa6a0>"
      ]
     },
     "metadata": {},
     "output_type": "display_data"
    }
   ],
   "source": [
    "fig,ax=plt.subplots(1,2,figsize=(15,5))\n",
    "\n",
    "msg_length_spam=sms_df.loc[sms_df['Tag']==1,'Message_length_stop']\n",
    "msg_length_ham=sms_df.loc[sms_df['Tag']==0,'Message_length_stop']\n",
    "\n",
    "sns.distplot(msg_length_spam,ax=ax[0],color='r')\n",
    "ax[0].set_title('Distribution of Message length of Spam',fontsize=14)\n",
    "\n",
    "\n",
    "sns.distplot(msg_length_ham,ax=ax[1],color='b')\n",
    "ax[1].set_title('Distribution of Message length of ham',fontsize=14)\n",
    "plt.show()"
   ]
  },
  {
   "cell_type": "markdown",
   "metadata": {},
   "source": [
    "Length of messages for Spam is higher than the Ham message which means that the Spam Message has higher number of characters.\n",
    "\n",
    "Similarly we can also plot for number_count to check whether the Spam message has high number count."
   ]
  },
  {
   "cell_type": "code",
   "execution_count": 125,
   "metadata": {},
   "outputs": [
    {
     "data": {
      "image/png": "[encoded data removed]",
      "text/plain": [
       "<matplotlib.figure.Figure at 0x7f33b9519278>"
      ]
     },
     "metadata": {},
     "output_type": "display_data"
    }
   ],
   "source": [
    "fig,ax=plt.subplots(1,2,figsize=(15,5))\n",
    "\n",
    "number_count_spam=sms_df.loc[sms_df['Tag']==1,'Number_count']\n",
    "number_count_ham=sms_df.loc[sms_df['Tag']==0,'Number_count']\n",
    "\n",
    "sns.distplot(number_count_spam,ax=ax[0],color='r')\n",
    "ax[0].set_title('Distribution of numbers length of Spam',fontsize=14)\n",
    "\n",
    "\n",
    "\n",
    "# try:\n",
    "#     sns.distplot(number_count_ham,ax=ax[1],color='b')\n",
    "# except RuntimeError as re:\n",
    "#     if str(re).startswith(\"Selected KDE bandwidth is 0. Cannot estimate density.\"):\n",
    "#         sns.distplot(number_count_ham,ax=ax[1],color='b', kde_kws={'bw': 0.1})\n",
    "#         ax[1].set_title('Distribution of numbers length of ham',fontsize=14)\n",
    "#     else:\n",
    "#         raise re\n",
    "\n",
    "sns.distplot(number_count_ham,ax=ax[1],color='b', kde_kws={'bw': 0.1})\n",
    "ax[1].set_title('Distribution of numbers length of ham',fontsize=14)\n",
    "plt.show()"
   ]
  },
  {
   "cell_type": "markdown",
   "metadata": {},
   "source": [
    "we can see that there are high Count of Numbers in the Spam message than Non spam message. Which means that the spam message are also related to money where it says as winning a lottery or some value of amount will be credited etc."
   ]
  },
  {
   "cell_type": "markdown",
   "metadata": {},
   "source": [
    "# Evaluate model again with new features and check the accuracy score"
   ]
  },
  {
   "cell_type": "code",
   "execution_count": 126,
   "metadata": {
    "collapsed": true
   },
   "outputs": [],
   "source": [
    "X=sms_df['Message_stop']\n",
    "y=sms_df['Tag']\n",
    "\n",
    "X_train,X_test,y_train,y_test=train_test_split(X,y,random_state=0)"
   ]
  },
  {
   "cell_type": "code",
   "execution_count": 127,
   "metadata": {
    "collapsed": true
   },
   "outputs": [],
   "source": [
    "# # CountVectorizer\n",
    "count=CountVectorizer(min_df=5,ngram_range=[3,6],analyzer='char').fit(X_train)\n",
    "X_train_Count=count.transform(X_train)\n",
    "X_test_Count=count.transform(X_test)\n",
    "\n",
    "#TfidfVectorizer\n",
    "\n",
    "Tfid=TfidfVectorizer(min_df=5,ngram_range=[3,6],analyzer='char').fit(X_train)\n",
    "X_train_Tfid=Tfid.transform(X_train)\n",
    "X_test_Tfid=Tfid.transform(X_test)"
   ]
  },
  {
   "cell_type": "code",
   "execution_count": 128,
   "metadata": {},
   "outputs": [
    {
     "name": "stdout",
     "output_type": "stream",
     "text": [
      "ROC score of Training by applying Countvectorizer: 0.975756965575\n",
      "ROC score of Testing by applying Countvectorizer: 0.974678709064\n"
     ]
    }
   ],
   "source": [
    "clf=MultinomialNB(alpha=0.1)\n",
    "clf.fit(X_train_Count,y_train)\n",
    "train_pred=clf.predict(X_train_Count)\n",
    "print('ROC score of Training by applying Countvectorizer:',roc_auc_score(train_pred,y_train))\n",
    "pred_count=clf.predict(X_test_Count)\n",
    "print('ROC score of Testing by applying Countvectorizer:',roc_auc_score(y_test,pred_count))"
   ]
  },
  {
   "cell_type": "code",
   "execution_count": 129,
   "metadata": {},
   "outputs": [
    {
     "data": {
      "text/plain": [
       "array([0, 1, 1, 0])"
      ]
     },
     "execution_count": 129,
     "metadata": {},
     "output_type": "execute_result"
    }
   ],
   "source": [
    "# Predictions of MultinomialNB using CountVectorization\n",
    "\n",
    "x=['do you have plans for weekend?, let us meet at our usual place',\n",
    "  'Hii, you are our lucky customer, you have won 100000000 Rs, Please provide your account details we will transfer the amount',\n",
    "  'Your account is freezed please provide your account details to unfreeze the account',\n",
    "  'Hi, Pooja you have been selected for the First round of interview with Wipro, you need to visit our campus on Next Monday']\n",
    "data=pd.Series(x)\n",
    "trans=count.transform(data)\n",
    "clf.predict(trans)"
   ]
  },
  {
   "cell_type": "code",
   "execution_count": 130,
   "metadata": {},
   "outputs": [
    {
     "name": "stdout",
     "output_type": "stream",
     "text": [
      "ROC score of Training by applying TFidVectorizer: 0.986337514967\n",
      "ROC score of Testing by applying TFidVectorizer: 0.973812878801\n"
     ]
    }
   ],
   "source": [
    "clf=MultinomialNB(alpha=0.1)\n",
    "clf.fit(X_train_Tfid,y_train)\n",
    "train_pred=clf.predict(X_train_Tfid)\n",
    "print('ROC score of Training by applying TFidVectorizer:',roc_auc_score(train_pred,y_train))\n",
    "pred_tfid=clf.predict(X_test_Tfid)\n",
    "print('ROC score of Testing by applying TFidVectorizer:',roc_auc_score(y_test,pred_tfid))"
   ]
  },
  {
   "cell_type": "code",
   "execution_count": 131,
   "metadata": {},
   "outputs": [
    {
     "data": {
      "text/plain": [
       "array([0, 1, 1, 0])"
      ]
     },
     "execution_count": 131,
     "metadata": {},
     "output_type": "execute_result"
    }
   ],
   "source": [
    "# Predictions of MultinomialNB using TfidVectorization\n",
    "\n",
    "x=['do you have plans for weekend?, let us meet at our usual place',\n",
    "  'Hii, you are our lucky customer, you have won 100000000 Rs, Please provide your account details we will transfer the amount',\n",
    "  'Your account is freezed please provide your account details to unfreeze the account',\n",
    "  'Hi, Pooja you have been selected for the First round of interview with Wipro, you need to visit our campus on Next Monday for interview process']\n",
    "data=pd.Series(x)\n",
    "trans=Tfid.transform(data)\n",
    "clf.predict(trans)"
   ]
  },
  {
   "cell_type": "markdown",
   "metadata": {},
   "source": [
    "We can apply Confusion matrix and check the Performance of a Classifier"
   ]
  },
  {
   "cell_type": "code",
   "execution_count": 132,
   "metadata": {
    "collapsed": true
   },
   "outputs": [],
   "source": [
    "from sklearn.metrics import confusion_matrix\n",
    "from sklearn.metrics import classification_report"
   ]
  },
  {
   "cell_type": "code",
   "execution_count": 133,
   "metadata": {},
   "outputs": [
    {
     "name": "stdout",
     "output_type": "stream",
     "text": [
      "confusion matrix \n",
      "Confusion matrix for classifier using Countvectorizer:\n",
      "\n",
      "[[1184   12]\n",
      " [   8  189]]\n",
      "Confusion matrix for classifier using TFidVectorizer:\n",
      "\n",
      "[[1188    8]\n",
      " [   9  188]]\n"
     ]
    }
   ],
   "source": [
    "print('confusion matrix ')\n",
    "conf_count=confusion_matrix(y_test,pred_count)\n",
    "print('Confusion matrix for classifier using Countvectorizer:\\n\\n{}'.format(conf_count))\n",
    "conf_tfid=confusion_matrix(y_test,pred_tfid)\n",
    "print('Confusion matrix for classifier using TFidVectorizer:\\n\\n{}'.format(conf_tfid))"
   ]
  },
  {
   "cell_type": "code",
   "execution_count": 134,
   "metadata": {},
   "outputs": [
    {
     "name": "stdout",
     "output_type": "stream",
     "text": [
      "classification report\n",
      "Classification report for classifier using Countvectorizer:\n",
      "\n",
      "             precision    recall  f1-score   support\n",
      "\n",
      "          0       0.99      0.99      0.99      1196\n",
      "          1       0.94      0.96      0.95       197\n",
      "\n",
      "avg / total       0.99      0.99      0.99      1393\n",
      "\n",
      "Classification report for classifier using TFidVectorizer:\n",
      "\n",
      "             precision    recall  f1-score   support\n",
      "\n",
      "          0       0.99      0.99      0.99      1196\n",
      "          1       0.96      0.95      0.96       197\n",
      "\n",
      "avg / total       0.99      0.99      0.99      1393\n",
      "\n"
     ]
    }
   ],
   "source": [
    "print('classification report')\n",
    "conf_report=classification_report(y_test,pred_count)\n",
    "print('Classification report for classifier using Countvectorizer:\\n\\n{}'.format(conf_report))\n",
    "conf_report=classification_report(y_test,pred_tfid)\n",
    "print('Classification report for classifier using TFidVectorizer:\\n\\n{}'.format(conf_report))"
   ]
  },
  {
   "cell_type": "markdown",
   "metadata": {},
   "source": [
    "With the message provided the Predicition of MultoMultinomialNB are Correctly predicted for both Count and Tfid Vectorizations\n",
    "\n",
    "Let's check with the other Classifiers"
   ]
  },
  {
   "cell_type": "code",
   "execution_count": 135,
   "metadata": {
    "collapsed": true
   },
   "outputs": [],
   "source": [
    "# # CountVectorizer\n",
    "count_log=CountVectorizer(min_df=4,ngram_range=[3,6],analyzer='char').fit(X_train)\n",
    "X_train_Count=count_log.transform(X_train)\n",
    "X_test_Count=count_log.transform(X_test)\n",
    "\n",
    "#TfidfVectorizer\n",
    "\n",
    "Tfid_log=TfidfVectorizer(min_df=5,ngram_range=[3,6],analyzer='char').fit(X_train)\n",
    "X_train_Tfid=Tfid_log.transform(X_train)\n",
    "X_test_Tfid=Tfid_log.transform(X_test)"
   ]
  },
  {
   "cell_type": "code",
   "execution_count": 136,
   "metadata": {},
   "outputs": [
    {
     "name": "stdout",
     "output_type": "stream",
     "text": [
      "1.0\n",
      "0.964467005076\n"
     ]
    }
   ],
   "source": [
    "from sklearn.linear_model import LogisticRegression\n",
    "\n",
    "#Countvectorizer\n",
    "log_clf=LogisticRegression(C=100)\n",
    "log_clf.fit(X_train_Count,y_train)\n",
    "train_pred=log_clf.predict(X_train_Count)\n",
    "print(roc_auc_score(train_pred,y_train))\n",
    "log_pre=log_clf.predict(X_test_Count)\n",
    "print(roc_auc_score(y_test,log_pre))"
   ]
  },
  {
   "cell_type": "code",
   "execution_count": 137,
   "metadata": {},
   "outputs": [
    {
     "name": "stdout",
     "output_type": "stream",
     "text": [
      "1.0\n",
      "0.967005076142\n"
     ]
    }
   ],
   "source": [
    "#Tfid\n",
    "\n",
    "log_clf=LogisticRegression(C=100)\n",
    "log_clf.fit(X_train_Tfid,y_train)\n",
    "train_pred=log_clf.predict(X_train_Tfid)\n",
    "print(roc_auc_score(train_pred,y_train))\n",
    "log_pre=log_clf.predict(X_test_Tfid)\n",
    "print(roc_auc_score(y_test,log_pre))"
   ]
  },
  {
   "cell_type": "code",
   "execution_count": 138,
   "metadata": {},
   "outputs": [
    {
     "name": "stdout",
     "output_type": "stream",
     "text": [
      "0.976997896951\n",
      "0.97044695071\n"
     ]
    }
   ],
   "source": [
    "from sklearn.tree import DecisionTreeClassifier\n",
    "\n",
    "#Count\n",
    "tree_clf=DecisionTreeClassifier(max_depth=3)\n",
    "tree_clf.fit(X_train_Count,y_train)\n",
    "train_pred=tree_clf.predict(X_train_Count)\n",
    "print(roc_auc_score(train_pred,y_train))\n",
    "test_pred=tree_clf.predict(X_test_Count)\n",
    "print(roc_auc_score(test_pred,y_test))"
   ]
  },
  {
   "cell_type": "code",
   "execution_count": null,
   "metadata": {},
   "outputs": [],
   "source": []
  },
  {
   "cell_type": "markdown",
   "metadata": {},
   "source": [
    "#                 Thank you."
   ]
  },
  {
   "cell_type": "code",
   "execution_count": null,
   "metadata": {
    "collapsed": true
   },
   "outputs": [],
   "source": []
  }
 ],
 "metadata": {
  "kernelspec": {
   "display_name": "Python 3",
   "language": "python",
   "name": "python3"
  },
  "language_info": {
   "codemirror_mode": {
    "name": "ipython",
    "version": 3
   },
   "file_extension": ".py",
   "mimetype": "text/x-python",
   "name": "python",
   "nbconvert_exporter": "python",
   "pygments_lexer": "ipython3",
   "version": "3.6.2"
  }
 },
 "nbformat": 4,
 "nbformat_minor": 4
}
